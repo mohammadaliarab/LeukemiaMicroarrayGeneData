{
  "nbformat": 4,
  "nbformat_minor": 0,
  "metadata": {
    "colab": {
      "provenance": [],
      "history_visible": true
    },
    "kernelspec": {
      "name": "python3",
      "display_name": "Python 3"
    },
    "language_info": {
      "name": "python"
    }
  },
  "cells": [
    {
      "cell_type": "code",
      "execution_count": 14,
      "metadata": {
        "colab": {
          "base_uri": "https://localhost:8080/"
        },
        "id": "iAWATnremvyd",
        "outputId": "1aff503b-e185-433a-a193-729800d56563"
      },
      "outputs": [
        {
          "output_type": "stream",
          "name": "stderr",
          "text": [
            "/usr/local/lib/python3.10/dist-packages/sklearn/model_selection/_split.py:737: UserWarning: The least populated class in y has only 3 members, which is less than n_splits=5.\n",
            "  warnings.warn(\n"
          ]
        },
        {
          "output_type": "stream",
          "name": "stdout",
          "text": [
            "Accuracy: 93.33%\n"
          ]
        }
      ],
      "source": [
        "import numpy as np\n",
        "import pandas as pd\n",
        "from sklearn.model_selection import train_test_split, cross_val_score\n",
        "from sklearn.preprocessing import StandardScaler\n",
        "from sklearn.linear_model import LogisticRegression\n",
        "from sklearn.svm import SVC\n",
        "from sklearn.ensemble import ExtraTreesClassifier, VotingClassifier\n",
        "from imblearn.over_sampling import SMOTE\n",
        "from sklearn.feature_selection import SelectKBest, chi2\n",
        "\n",
        "# Load the dataset\n",
        "data = pd.read_csv('https://github.com/mohammadaliarab/LeukemiaMicroarrayGeneData/raw/main/Leukemia_GSE9476.csv')\n",
        "#X = data.iloc[:, 2:-1]  # Features\n",
        "#y = data.iloc[:, -1]   # Target\n",
        "y_s = data['type']\n",
        "X = data.iloc[:,2:]\n",
        "\n",
        "class_mapping = {label: index for index, label in enumerate(y_s.unique())}\n",
        "y = y_s.map(class_mapping)\n",
        "\n",
        "# Apply ADASYN for balancing the dataset\n",
        "adasyn = SMOTE()\n",
        "X_res, y_res = adasyn.fit_resample(X, y)#X,y#\n",
        "\n",
        "# Feature selection using Chi-squared\n",
        "chi2_selector = SelectKBest(chi2, k=100)  # Select top 100 features\n",
        "X_kbest = X_res#chi2_selector.fit_transform(X_res, y_res)#\n",
        "\n",
        "# Split the dataset\n",
        "X_train, X_test, y_train, y_test = train_test_split(X_kbest, y_res, test_size=0.2, random_state=42)\n",
        "\n",
        "# Standardize the data\n",
        "scaler = StandardScaler()\n",
        "X_train = scaler.fit_transform(X_train)\n",
        "X_test = scaler.transform(X_test)\n",
        "\n",
        "# Define the base models\n",
        "log_reg = LogisticRegression()\n",
        "svc = SVC(probability=True)\n",
        "extra_trees = ExtraTreesClassifier()\n",
        "\n",
        "# Create the hybrid model using VotingClassifier\n",
        "hybrid_model = VotingClassifier(estimators=[\n",
        "    ('lr', log_reg),\n",
        "    ('svc', svc),\n",
        "    ('et', extra_trees)\n",
        "], voting='soft')\n",
        "\n",
        "# Train the model\n",
        "hybrid_model.fit(X_train, y_train)\n",
        "\n",
        "# Evaluate the model\n",
        "scores = cross_val_score(hybrid_model, X_test, y_test, cv=5)\n",
        "print(f'Accuracy: {np.mean(scores) * 100:.2f}%')\n"
      ]
    },
    {
      "cell_type": "code",
      "source": [
        "import numpy as np\n",
        "import pandas as pd\n",
        "from sklearn.model_selection import train_test_split, cross_val_score\n",
        "from sklearn.preprocessing import StandardScaler\n",
        "from sklearn.linear_model import LogisticRegression\n",
        "from sklearn.svm import SVC\n",
        "from sklearn.ensemble import ExtraTreesClassifier, VotingClassifier\n",
        "from imblearn.over_sampling import ADASYN\n",
        "from sklearn.feature_selection import SelectKBest, chi2\n",
        "\n",
        "# Load the dataset\n",
        "#data = pd.read_csv('leukemia_microarray_data.csv')\n",
        "#X = data.iloc[:, :-1]  # Features\n",
        "#y = data.iloc[:, -1]   # Target\n",
        "\n",
        "# Load the dataset\n",
        "data = pd.read_csv('https://github.com/mohammadaliarab/LeukemiaMicroarrayGeneData/raw/main/Leukemia_GSE9476.csv')\n",
        "#X = data.iloc[:, 2:-1]  # Features\n",
        "#y = data.iloc[:, -1]   # Target\n",
        "y_s = data['type']\n",
        "X = data.iloc[:,2:]\n",
        "\n",
        "class_mapping = {label: index for index, label in enumerate(y_s.unique())}\n",
        "y = y_s.map(class_mapping)\n",
        "\n",
        "# Apply ADASYN for balancing the dataset\n",
        "#adasyn = ADASYN()\n",
        "#X_res, y_res = adasyn.fit_resample(X, y)\n",
        "adasyn = SMOTE()\n",
        "X_res, y_res = adasyn.fit_resample(X, y)\n",
        "\n",
        "# Feature selection using Chi-squared\n",
        "chi2_selector = SelectKBest(chi2, k=100)  # Select top 100 features\n",
        "X_kbest = chi2_selector.fit_transform(X_res, y_res)\n",
        "\n",
        "# Split the dataset\n",
        "X_train, X_test, y_train, y_test = train_test_split(X_kbest, y_res, test_size=0.2, random_state=42)\n",
        "\n",
        "# Standardize the data\n",
        "scaler = StandardScaler()\n",
        "X_train = scaler.fit_transform(X_train)\n",
        "X_test = scaler.transform(X_test)\n",
        "\n",
        "# Define the base models\n",
        "log_reg = LogisticRegression()\n",
        "svc = SVC(probability=True)\n",
        "extra_trees = ExtraTreesClassifier()\n",
        "\n",
        "# Create the hybrid model using VotingClassifier\n",
        "hybrid_model = VotingClassifier(estimators=[\n",
        "    ('lr', log_reg),\n",
        "    ('svc', svc),\n",
        "    ('et', extra_trees)\n",
        "], voting='soft')\n",
        "\n",
        "# Train the model\n",
        "hybrid_model.fit(X_train, y_train)\n",
        "\n",
        "# Evaluate the model\n",
        "scores = cross_val_score(hybrid_model, X_test, y_test, cv=5)\n",
        "print(f'Accuracy: {np.mean(scores) * 100:.2f}%')\n"
      ],
      "metadata": {
        "colab": {
          "base_uri": "https://localhost:8080/"
        },
        "id": "89bER_cpvBcO",
        "outputId": "4471a7b9-283a-46ea-933b-a75ca241e97b"
      },
      "execution_count": 16,
      "outputs": [
        {
          "output_type": "stream",
          "name": "stderr",
          "text": [
            "/usr/local/lib/python3.10/dist-packages/sklearn/model_selection/_split.py:737: UserWarning: The least populated class in y has only 3 members, which is less than n_splits=5.\n",
            "  warnings.warn(\n"
          ]
        },
        {
          "output_type": "stream",
          "name": "stdout",
          "text": [
            "Accuracy: 100.00%\n"
          ]
        }
      ]
    }
  ]
}
